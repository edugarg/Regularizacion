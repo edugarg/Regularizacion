{
  "nbformat": 4,
  "nbformat_minor": 0,
  "metadata": {
    "kernelspec": {
      "display_name": "Python 3",
      "language": "python",
      "name": "python3"
    },
    "language_info": {
      "codemirror_mode": {
        "name": "ipython",
        "version": 3
      },
      "file_extension": ".py",
      "mimetype": "text/x-python",
      "name": "python",
      "nbconvert_exporter": "python",
      "pygments_lexer": "ipython3",
      "version": "3.7.3"
    },
    "colab": {
      "name": "6-Batch-normalization.ipynb",
      "provenance": []
    }
  },
  "cells": [
    {
      "cell_type": "code",
      "metadata": {
        "id": "-qBGOlyL-Rek",
        "colab_type": "code",
        "colab": {
          "base_uri": "https://localhost:8080/",
          "height": 1000
        },
        "outputId": "8f4c9b98-560e-4361-9747-45c9e14de4e8"
      },
      "source": [
        "! wget https://raw.githubusercontent.com/PAE-ITBA-ML-2019/Regularizacion/master/reg_helper.py\n",
        "! wget https://raw.githubusercontent.com/PAE-ITBA-ML-2019/Regularizacion/master/fnn_helper.py\n",
        "! wget https://raw.githubusercontent.com/PAE-ITBA-ML-2019/Regularizacion/master/draw_nn.py\n",
        "! wget https://raw.githubusercontent.com/PAE-ITBA-ML-2019/Regularizacion/master/regularization_helper.py\n",
        " \n",
        "! wget https://github.com/PAE-ITBA-ML-2019/Regularizacion/raw/master/data.zip\n",
        "! unzip data.zip\n"
      ],
      "execution_count": 1,
      "outputs": [
        {
          "output_type": "stream",
          "text": [
            "--2019-10-28 15:25:59--  https://raw.githubusercontent.com/PAE-ITBA-ML-2019/Regularizacion/master/reg_helper.py\n",
            "Resolving raw.githubusercontent.com (raw.githubusercontent.com)... 151.101.0.133, 151.101.64.133, 151.101.128.133, ...\n",
            "Connecting to raw.githubusercontent.com (raw.githubusercontent.com)|151.101.0.133|:443... connected.\n",
            "HTTP request sent, awaiting response... 200 OK\n",
            "Length: 13294 (13K) [text/plain]\n",
            "Saving to: ‘reg_helper.py’\n",
            "\n",
            "\rreg_helper.py         0%[                    ]       0  --.-KB/s               \rreg_helper.py       100%[===================>]  12.98K  --.-KB/s    in 0.01s   \n",
            "\n",
            "2019-10-28 15:25:59 (1.33 MB/s) - ‘reg_helper.py’ saved [13294/13294]\n",
            "\n",
            "--2019-10-28 15:26:00--  https://raw.githubusercontent.com/PAE-ITBA-ML-2019/Regularizacion/master/fnn_helper.py\n",
            "Resolving raw.githubusercontent.com (raw.githubusercontent.com)... 151.101.0.133, 151.101.64.133, 151.101.128.133, ...\n",
            "Connecting to raw.githubusercontent.com (raw.githubusercontent.com)|151.101.0.133|:443... connected.\n",
            "HTTP request sent, awaiting response... 200 OK\n",
            "Length: 2402 (2.3K) [text/plain]\n",
            "Saving to: ‘fnn_helper.py’\n",
            "\n",
            "fnn_helper.py       100%[===================>]   2.35K  --.-KB/s    in 0s      \n",
            "\n",
            "2019-10-28 15:26:01 (46.9 MB/s) - ‘fnn_helper.py’ saved [2402/2402]\n",
            "\n",
            "--2019-10-28 15:26:02--  https://raw.githubusercontent.com/PAE-ITBA-ML-2019/Regularizacion/master/draw_nn.py\n",
            "Resolving raw.githubusercontent.com (raw.githubusercontent.com)... 151.101.0.133, 151.101.64.133, 151.101.128.133, ...\n",
            "Connecting to raw.githubusercontent.com (raw.githubusercontent.com)|151.101.0.133|:443... connected.\n",
            "HTTP request sent, awaiting response... 200 OK\n",
            "Length: 4082 (4.0K) [text/plain]\n",
            "Saving to: ‘draw_nn.py’\n",
            "\n",
            "draw_nn.py          100%[===================>]   3.99K  --.-KB/s    in 0s      \n",
            "\n",
            "2019-10-28 15:26:03 (82.8 MB/s) - ‘draw_nn.py’ saved [4082/4082]\n",
            "\n",
            "--2019-10-28 15:26:04--  https://raw.githubusercontent.com/PAE-ITBA-ML-2019/Regularizacion/master/regularization_helper.py\n",
            "Resolving raw.githubusercontent.com (raw.githubusercontent.com)... 151.101.0.133, 151.101.64.133, 151.101.128.133, ...\n",
            "Connecting to raw.githubusercontent.com (raw.githubusercontent.com)|151.101.0.133|:443... connected.\n",
            "HTTP request sent, awaiting response... 200 OK\n",
            "Length: 2641 (2.6K) [text/plain]\n",
            "Saving to: ‘regularization_helper.py’\n",
            "\n",
            "regularization_help 100%[===================>]   2.58K  --.-KB/s    in 0s      \n",
            "\n",
            "2019-10-28 15:26:04 (45.8 MB/s) - ‘regularization_helper.py’ saved [2641/2641]\n",
            "\n",
            "--2019-10-28 15:26:06--  https://github.com/PAE-ITBA-ML-2019/Regularizacion/raw/master/data.zip\n",
            "Resolving github.com (github.com)... 140.82.114.4\n",
            "Connecting to github.com (github.com)|140.82.114.4|:443... connected.\n",
            "HTTP request sent, awaiting response... 302 Found\n",
            "Location: https://raw.githubusercontent.com/PAE-ITBA-ML-2019/Regularizacion/master/data.zip [following]\n",
            "--2019-10-28 15:26:06--  https://raw.githubusercontent.com/PAE-ITBA-ML-2019/Regularizacion/master/data.zip\n",
            "Resolving raw.githubusercontent.com (raw.githubusercontent.com)... 151.101.0.133, 151.101.64.133, 151.101.128.133, ...\n",
            "Connecting to raw.githubusercontent.com (raw.githubusercontent.com)|151.101.0.133|:443... connected.\n",
            "HTTP request sent, awaiting response... 200 OK\n",
            "Length: 125524 (123K) [application/zip]\n",
            "Saving to: ‘data.zip’\n",
            "\n",
            "data.zip            100%[===================>] 122.58K  --.-KB/s    in 0.03s   \n",
            "\n",
            "2019-10-28 15:26:06 (3.98 MB/s) - ‘data.zip’ saved [125524/125524]\n",
            "\n",
            "Archive:  data.zip\n",
            "   creating: data/\n",
            "  inflating: data/1000_samples.npy   \n",
            "  inflating: data/chip_tests.txt     \n",
            "  inflating: data/200_samples_OK.npy  \n",
            "  inflating: data/alturas-pesos-mils-test.csv  \n",
            "  inflating: data/X_test.npy         \n",
            "  inflating: data/y_test.npy         \n",
            "  inflating: data/alturas-pesos-mils-train.csv  \n",
            "  inflating: data/X_train.npy        \n",
            "  inflating: data/y_train.npy        \n"
          ],
          "name": "stdout"
        }
      ]
    },
    {
      "cell_type": "markdown",
      "metadata": {
        "id": "uz1lcc4R-Res",
        "colab_type": "text"
      },
      "source": [
        "### 6. Batch Normalization \n",
        "Paper: https://arxiv.org/pdf/1502.03167.pdf  \n",
        "Soluciona el problema de la \"Covariate Shift\" acelerando el entrenamiento y nos da de regalo regularización  \n",
        "\n",
        "Paper efecto regularizador: \n",
        "\n",
        "https://arxiv.org/abs/1809.00846\n",
        "\n",
        "Paper de le interferencia entre dropout y batchnormalization:  \n",
        "https://arxiv.org/abs/1801.05134"
      ]
    },
    {
      "cell_type": "markdown",
      "metadata": {
        "id": "UmXTIZUb-Reu",
        "colab_type": "text"
      },
      "source": [
        "![images/batch_norm.webp](https://github.com/edugarg/Regularizacion/blob/master/images/batch_norm.webp?raw=1)"
      ]
    },
    {
      "cell_type": "markdown",
      "metadata": {
        "id": "MScxufnK-Rev",
        "colab_type": "text"
      },
      "source": [
        "$\\beta$ reemplaza al bias, por lo que puede usarse en la capa densa:\n",
        "use_bias=False\n",
        "\n",
        "En el momento de testing, se usa una promediación sobre todos los batches de los $\\mu_B$ y $\\sigma^2_B$ (Exponential Weighted Average)"
      ]
    },
    {
      "cell_type": "code",
      "metadata": {
        "id": "8286DgJu-Rex",
        "colab_type": "code",
        "colab": {
          "base_uri": "https://localhost:8080/",
          "height": 471
        },
        "outputId": "f4958377-b1b0-4522-9b73-31464c7899f0"
      },
      "source": [
        "import numpy as np\n",
        "import reg_helper as RHelper\n",
        "import draw_nn\n",
        "from matplotlib import pyplot as plt \n",
        "folder = 'data/'\n",
        "X_train = np.load(folder+'X_train.npy')\n",
        "X_test = np.load(folder+'X_test.npy')\n",
        "y_train = np.load(folder+'y_train.npy') \n",
        "y_test = np.load(folder+'y_test.npy')\n",
        "\n",
        "f, (ax1, ax2) = plt.subplots(1, 2, figsize=(20,6))\n",
        "RHelper.plot_boundaries(X_train, y_train, ax=ax1)\n",
        "RHelper.plot_boundaries(X_test, y_test, ax=ax2)\n",
        "ax1.set_title('Train Data')\n",
        "ax2.set_title('CV Data')\n",
        "ax1.set_xlabel('$X_1$')\n",
        "ax1.set_ylabel('$X_2$')\n",
        "ax2.set_xlabel('$X_1$')\n",
        "ax2.set_ylabel('$X_2$')\n",
        "plt.show()"
      ],
      "execution_count": 2,
      "outputs": [
        {
          "output_type": "stream",
          "text": [
            "Using TensorFlow backend.\n"
          ],
          "name": "stderr"
        },
        {
          "output_type": "display_data",
          "data": {
            "text/html": [
              "<p style=\"color: red;\">\n",
              "The default version of TensorFlow in Colab will soon switch to TensorFlow 2.x.<br>\n",
              "We recommend you <a href=\"https://www.tensorflow.org/guide/migrate\" target=\"_blank\">upgrade</a> now \n",
              "or ensure your notebook will continue to use TensorFlow 1.x via the <code>%tensorflow_version 1.x</code> magic:\n",
              "<a href=\"https://colab.research.google.com/notebooks/tensorflow_version.ipynb\" target=\"_blank\">more info</a>.</p>\n"
            ],
            "text/plain": [
              "<IPython.core.display.HTML object>"
            ]
          },
          "metadata": {
            "tags": []
          }
        },
        {
          "output_type": "display_data",
          "data": {
            "image/png": "[encoded data removed]",
            "text/plain": [
              "<Figure size 1440x432 with 2 Axes>"
            ]
          },
          "metadata": {
            "tags": []
          }
        }
      ]
    },
    {
      "cell_type": "code",
      "metadata": {
        "id": "7qQrTW9F-Re3",
        "colab_type": "code",
        "colab": {}
      },
      "source": [
        "from keras.models import Sequential\n",
        "from keras.layers import Dense, BatchNormalization, Activation\n",
        "from keras import optimizers\n",
        "from fnn_helper import PlotLosses"
      ],
      "execution_count": 0,
      "outputs": []
    },
    {
      "cell_type": "code",
      "metadata": {
        "id": "SxHq6xN4-Re8",
        "colab_type": "code",
        "colab": {}
      },
      "source": [
        "hidden_units = 20\n",
        "input_shape = 2\n",
        "output_size = 1"
      ],
      "execution_count": 0,
      "outputs": []
    },
    {
      "cell_type": "markdown",
      "metadata": {
        "id": "ff2k52afbf1S",
        "colab_type": "text"
      },
      "source": [
        "Batch Normalization: \n",
        "Por cada entrada tengo 4 parámetros, dos son entrenables y dos son no entrenables\n",
        "\n",
        "En la primera capa tengo 20 entradas por 4 parámetros = 80\n",
        "En la segunda teng 1 entrada por 4 parámetros = 4\n",
        "\n",
        "De esos 84 la la mitad son entrenables por eso hay 42 parámetros no entrenables\n"
      ]
    },
    {
      "cell_type": "code",
      "metadata": {
        "id": "nE3VZBBu-RfC",
        "colab_type": "code",
        "colab": {
          "base_uri": "https://localhost:8080/",
          "height": 357
        },
        "outputId": "31da2136-c1ea-49ea-8dd5-b76d171a4477"
      },
      "source": [
        "# Con BatchNormalization\n",
        "model_bn = Sequential()\n",
        "model_bn.add(Dense(hidden_units,input_dim=input_shape, use_bias=False))\n",
        "model_bn.add(BatchNormalization())\n",
        "model_bn.add(Activation('sigmoid'))\n",
        "model_bn.add(Dense(output_size, use_bias=False))\n",
        "model_bn.add(BatchNormalization())\n",
        "model_bn.add(Activation('sigmoid'))\n",
        "model_bn.summary()\n",
        "\n",
        "lr = 0.001 "
      ],
      "execution_count": 8,
      "outputs": [
        {
          "output_type": "stream",
          "text": [
            "Model: \"sequential_2\"\n",
            "_________________________________________________________________\n",
            "Layer (type)                 Output Shape              Param #   \n",
            "=================================================================\n",
            "dense_3 (Dense)              (None, 20)                40        \n",
            "_________________________________________________________________\n",
            "batch_normalization_3 (Batch (None, 20)                80        \n",
            "_________________________________________________________________\n",
            "activation_3 (Activation)    (None, 20)                0         \n",
            "_________________________________________________________________\n",
            "dense_4 (Dense)              (None, 1)                 20        \n",
            "_________________________________________________________________\n",
            "batch_normalization_4 (Batch (None, 1)                 4         \n",
            "_________________________________________________________________\n",
            "activation_4 (Activation)    (None, 1)                 0         \n",
            "=================================================================\n",
            "Total params: 144\n",
            "Trainable params: 102\n",
            "Non-trainable params: 42\n",
            "_________________________________________________________________\n"
          ],
          "name": "stdout"
        }
      ]
    },
    {
      "cell_type": "code",
      "metadata": {
        "id": "mqDsrwzI-RfI",
        "colab_type": "code",
        "colab": {}
      },
      "source": [
        "# sin BatchNormalization\n",
        "model_bn = Sequential()\n",
        "model_bn.add(Dense(hidden_units,input_dim=input_shape))\n",
        "model_bn.add(Activation('sigmoid'))\n",
        "model_bn.add(Dense(output_size))\n",
        "model_bn.add(Activation('sigmoid'))\n",
        "model_bn.summary()\n",
        "\n",
        "lr = 0.1 "
      ],
      "execution_count": 0,
      "outputs": []
    },
    {
      "cell_type": "code",
      "metadata": {
        "id": "2cfbF6H_-RfP",
        "colab_type": "code",
        "colab": {}
      },
      "source": [
        "# decay = 0.001 \n",
        "batch_size = 59 \n",
        "epochs = 4000\n",
        "selectedOptimizer = optimizers.adam(lr=lr, decay=decay)\n",
        "model_bn.compile(loss = 'binary_crossentropy', optimizer=selectedOptimizer, metrics=['accuracy'])"
      ],
      "execution_count": 0,
      "outputs": []
    },
    {
      "cell_type": "markdown",
      "metadata": {
        "id": "NfBhOXuU-RfU",
        "colab_type": "text"
      },
      "source": [
        "- Cuales son los non-trainable parameters?\n",
        "- Donde va la capa de batch normalization?"
      ]
    },
    {
      "cell_type": "code",
      "metadata": {
        "id": "on3EZm2P-RfV",
        "colab_type": "code",
        "colab": {}
      },
      "source": [
        "plot_losses_bn = PlotLosses(plot_interval=100, \n",
        "                         evaluate_interval=None, \n",
        "                         x_val=X_test, \n",
        "                         y_val_categorical=y_test)\n",
        "model_bn.fit(X_train, \n",
        "          y_train, batch_size = batch_size,\n",
        "          epochs=epochs, \n",
        "          verbose=0, \n",
        "          validation_data=(X_test, y_test), \n",
        "          callbacks=[plot_losses_bn],\n",
        "         )"
      ],
      "execution_count": 0,
      "outputs": []
    },
    {
      "cell_type": "code",
      "metadata": {
        "id": "PbHFnJ9F-RfZ",
        "colab_type": "code",
        "colab": {}
      },
      "source": [
        "f, (ax1, ax2) = plt.subplots(1, 2, figsize=(20,6))\n",
        "RHelper.plot_boundaries_keras(X_train, y_train, model_bn.evaluate(X_train, y_train)[1], model_bn.predict_proba, h = 0.01, margin=0.1, ax=ax1)\n",
        "RHelper.plot_boundaries_keras(X_test, y_test, model_bn.evaluate(X_test, y_test)[1], model_bn.predict_proba, h = 0.01, margin=0.1, ax=ax2)\n",
        "plt.show()"
      ],
      "execution_count": 0,
      "outputs": []
    },
    {
      "cell_type": "markdown",
      "metadata": {
        "id": "0Zvwj42A-Rfe",
        "colab_type": "text"
      },
      "source": [
        "### Se puede ver que tiene un efecto de regularización sobre los pesos"
      ]
    },
    {
      "cell_type": "code",
      "metadata": {
        "id": "E5QKj0Mp-Rff",
        "colab_type": "code",
        "colab": {}
      },
      "source": [
        "# Para calcular norma en cada epoch\n",
        "def get_weights_array(ws):\n",
        "    weights_norm = []\n",
        "    for weights in ws:\n",
        "        weights_norm.append(np.linalg.norm(weights[0]))\n",
        "    return weights_norm"
      ],
      "execution_count": 0,
      "outputs": []
    },
    {
      "cell_type": "code",
      "metadata": {
        "id": "wEUFld2M-Rfk",
        "colab_type": "code",
        "colab": {}
      },
      "source": [
        "weights_l1 = get_weights_array(plot_losses_bn.weights)\n",
        "plt.plot(weights_l1)\n",
        "plt.show()"
      ],
      "execution_count": 0,
      "outputs": []
    },
    {
      "cell_type": "markdown",
      "metadata": {
        "id": "5jStRrAm-Rfo",
        "colab_type": "text"
      },
      "source": [
        "[Discución interesante](https://stackoverflow.com/questions/34716454/where-do-i-call-the-batchnormalization-function-in-keras)"
      ]
    },
    {
      "cell_type": "code",
      "metadata": {
        "id": "0eM5TER--Rfp",
        "colab_type": "code",
        "colab": {}
      },
      "source": [
        ""
      ],
      "execution_count": 0,
      "outputs": []
    }
  ]
}